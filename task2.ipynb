{
  "nbformat": 4,
  "nbformat_minor": 0,
  "metadata": {
    "colab": {
      "provenance": [],
      "authorship_tag": "ABX9TyMRlsdfi24S+7fetO9TqOpL",
      "include_colab_link": true
    },
    "kernelspec": {
      "name": "python3",
      "display_name": "Python 3"
    },
    "language_info": {
      "name": "python"
    }
  },
  "cells": [
    {
      "cell_type": "markdown",
      "metadata": {
        "id": "view-in-github",
        "colab_type": "text"
      },
      "source": [
        "<a href=\"https://colab.research.google.com/github/AdityaDevadiga/ETL/blob/main/task2.ipynb\" target=\"_parent\"><img src=\"https://colab.research.google.com/assets/colab-badge.svg\" alt=\"Open In Colab\"/></a>"
      ]
    },
    {
      "cell_type": "code",
      "source": [
        "pip install boto3"
      ],
      "metadata": {
        "colab": {
          "base_uri": "https://localhost:8080/"
        },
        "id": "jFEMJH4iW3Ip",
        "outputId": "4991ebde-3196-4fbe-fae6-bc062823c8c0"
      },
      "execution_count": 1,
      "outputs": [
        {
          "output_type": "stream",
          "name": "stdout",
          "text": [
            "Collecting boto3\n",
            "  Downloading boto3-1.28.36-py3-none-any.whl (135 kB)\n",
            "\u001b[2K     \u001b[90m━━━━━━━━━━━━━━━━━━━━━━━━━━━━━━━━━━━━━━━\u001b[0m \u001b[32m135.8/135.8 kB\u001b[0m \u001b[31m2.9 MB/s\u001b[0m eta \u001b[36m0:00:00\u001b[0m\n",
            "\u001b[?25hCollecting botocore<1.32.0,>=1.31.36 (from boto3)\n",
            "  Downloading botocore-1.31.36-py3-none-any.whl (11.1 MB)\n",
            "\u001b[2K     \u001b[90m━━━━━━━━━━━━━━━━━━━━━━━━━━━━━━━━━━━━━━━━\u001b[0m \u001b[32m11.1/11.1 MB\u001b[0m \u001b[31m35.4 MB/s\u001b[0m eta \u001b[36m0:00:00\u001b[0m\n",
            "\u001b[?25hCollecting jmespath<2.0.0,>=0.7.1 (from boto3)\n",
            "  Downloading jmespath-1.0.1-py3-none-any.whl (20 kB)\n",
            "Collecting s3transfer<0.7.0,>=0.6.0 (from boto3)\n",
            "  Downloading s3transfer-0.6.2-py3-none-any.whl (79 kB)\n",
            "\u001b[2K     \u001b[90m━━━━━━━━━━━━━━━━━━━━━━━━━━━━━━━━━━━━━━━━\u001b[0m \u001b[32m79.8/79.8 kB\u001b[0m \u001b[31m5.7 MB/s\u001b[0m eta \u001b[36m0:00:00\u001b[0m\n",
            "\u001b[?25hRequirement already satisfied: python-dateutil<3.0.0,>=2.1 in /usr/local/lib/python3.10/dist-packages (from botocore<1.32.0,>=1.31.36->boto3) (2.8.2)\n",
            "Collecting urllib3<1.27,>=1.25.4 (from botocore<1.32.0,>=1.31.36->boto3)\n",
            "  Downloading urllib3-1.26.16-py2.py3-none-any.whl (143 kB)\n",
            "\u001b[2K     \u001b[90m━━━━━━━━━━━━━━━━━━━━━━━━━━━━━━━━━━━━━━\u001b[0m \u001b[32m143.1/143.1 kB\u001b[0m \u001b[31m15.3 MB/s\u001b[0m eta \u001b[36m0:00:00\u001b[0m\n",
            "\u001b[?25hRequirement already satisfied: six>=1.5 in /usr/local/lib/python3.10/dist-packages (from python-dateutil<3.0.0,>=2.1->botocore<1.32.0,>=1.31.36->boto3) (1.16.0)\n",
            "Installing collected packages: urllib3, jmespath, botocore, s3transfer, boto3\n",
            "  Attempting uninstall: urllib3\n",
            "    Found existing installation: urllib3 2.0.4\n",
            "    Uninstalling urllib3-2.0.4:\n",
            "      Successfully uninstalled urllib3-2.0.4\n",
            "Successfully installed boto3-1.28.36 botocore-1.31.36 jmespath-1.0.1 s3transfer-0.6.2 urllib3-1.26.16\n"
          ]
        }
      ]
    },
    {
      "cell_type": "code",
      "source": [
        "import boto3\n",
        "import chardet\n",
        "import pandas as pd\n",
        "from io import StringIO\n",
        "import os\n",
        "\n",
        "# Connect to S3\n",
        "s3 = boto3.client('s3',\n",
        "                  aws_access_key_id='******',\n",
        "                  aws_secret_access_key='***********')\n",
        "\n",
        "# Retrieve data from S3\n",
        "bucket_name = 'your_bucket_name'\n",
        "object_key = 'your_object_key_name'\n",
        "\n",
        "s3_response = s3.get_object(Bucket=bucket_name, Key=object_key)\n",
        "s3_data = s3_response['Body'].read()\n",
        "\n",
        "# Detect the encoding\n",
        "result = chardet.detect(s3_data)\n",
        "actual_encoding = result['encoding']\n",
        "\n",
        "# Decode using the detected encoding\n",
        "decoded_data = s3_data.decode(actual_encoding)\n",
        "\n",
        "# Read CSV data into a DataFrame\n",
        "df = pd.read_csv(StringIO(decoded_data))\n",
        "\n",
        "# Count the total number of rows in the dataset\n",
        "num_of_rows = df.shape[0]\n",
        "\n",
        "# Count the number of rows with null or empty cells\n",
        "rows_with_null = df[df.isnull().any(axis=1)]\n",
        "num_rows_with_null = len(rows_with_null)\n",
        "\n",
        "# Count columns with null or empty cells\n",
        "columns_with_null = df.columns[df.isnull().any()]\n",
        "num_columns_with_null = len(columns_with_null)\n",
        "\n",
        "# Count the number of rows with all columns having values\n",
        "complete_rows = df.dropna()\n",
        "num_complete_rows = len(complete_rows)\n",
        "\n",
        "# Add a new column that counts null values in each row\n",
        "df['Null_Count_row'] = df.isnull().sum(axis=1)\n",
        "\n",
        "# Count the number of columns with null values\n",
        "df['num_columns_with_null'] = df.isnull().any().sum()\n",
        "\n",
        "# Print results\n",
        "print(\"Total number of records in dataset:\", num_of_rows)\n",
        "print(\"Number of rows with null or empty cells:\", num_rows_with_null)\n",
        "print(\"Number of columns with null or empty cells:\", num_columns_with_null)\n",
        "print(\"Number of rows with all columns having values:\", num_complete_rows)\n",
        "\n",
        "# Print DataFrame with the new columns\n",
        "print(df)"
      ],
      "metadata": {
        "colab": {
          "base_uri": "https://localhost:8080/"
        },
        "id": "ZoRt7F-8XEOi",
        "outputId": "8ca86c64-4597-4bf5-d237-a31209f5c99a"
      },
      "execution_count": 2,
      "outputs": [
        {
          "output_type": "stream",
          "name": "stdout",
          "text": [
            "Total number of records in dataset: 995\n",
            "Number of rows with null or empty cells: 441\n",
            "Number of columns with null or empty cells: 18\n",
            "Number of rows with all columns having values: 554\n",
            "     rank                    Youtuber  subscribers   video views  \\\n",
            "0       1                    T-Series    245000000  2.280000e+11   \n",
            "1       2              YouTube Movies    170000000  0.000000e+00   \n",
            "2       3                     MrBeast    166000000  2.836884e+10   \n",
            "3       4  Cocomelon - Nursery Rhymes    162000000  1.640000e+11   \n",
            "4       5                   SET India    159000000  1.480000e+11   \n",
            "..    ...                         ...          ...           ...   \n",
            "990   991               Natan por Aï¿     12300000  9.029610e+09   \n",
            "991   992    Free Fire India Official     12300000  1.674410e+09   \n",
            "992   993                       Panda     12300000  2.214684e+09   \n",
            "993   994                 RobTopGames     12300000  3.741235e+08   \n",
            "994   995                Make Joke Of     12300000  2.129774e+09   \n",
            "\n",
            "             category                       Title  uploads         Country  \\\n",
            "0               Music                    T-Series    20082           India   \n",
            "1    Film & Animation               youtubemovies        1   United States   \n",
            "2       Entertainment                     MrBeast      741   United States   \n",
            "3           Education  Cocomelon - Nursery Rhymes      966   United States   \n",
            "4               Shows                   SET India   116536           India   \n",
            "..                ...                         ...      ...             ...   \n",
            "990            Sports               Natan por Aï¿     1200          Brazil   \n",
            "991    People & Blogs    Free Fire India Official     1500           India   \n",
            "992               NaN                 HybridPanda     2452  United Kingdom   \n",
            "993            Gaming                 RobTopGames       39          Sweden   \n",
            "994            Comedy                Make Joke Of       62           India   \n",
            "\n",
            "    Abbreviation   channel_type  ...  created_month  created_date  \\\n",
            "0             IN          Music  ...            Mar          13.0   \n",
            "1             US          Games  ...            Mar           5.0   \n",
            "2             US  Entertainment  ...            Feb          20.0   \n",
            "3             US      Education  ...            Sep           1.0   \n",
            "4             IN  Entertainment  ...            Sep          20.0   \n",
            "..           ...            ...  ...            ...           ...   \n",
            "990           BR  Entertainment  ...            Feb          12.0   \n",
            "991           IN          Games  ...            Sep          14.0   \n",
            "992           GB          Games  ...            Sep          11.0   \n",
            "993           SE          Games  ...            May           9.0   \n",
            "994           IN         Comedy  ...            Aug           1.0   \n",
            "\n",
            "     Gross tertiary education enrollment (%)    Population  Unemployment rate  \\\n",
            "0                                       28.1  1.366418e+09               5.36   \n",
            "1                                       88.2  3.282395e+08              14.70   \n",
            "2                                       88.2  3.282395e+08              14.70   \n",
            "3                                       88.2  3.282395e+08              14.70   \n",
            "4                                       28.1  1.366418e+09               5.36   \n",
            "..                                       ...           ...                ...   \n",
            "990                                     51.3  2.125594e+08              12.08   \n",
            "991                                     28.1  1.366418e+09               5.36   \n",
            "992                                     60.0  6.683440e+07               3.85   \n",
            "993                                     67.0  1.028545e+07               6.48   \n",
            "994                                     28.1  1.366418e+09               5.36   \n",
            "\n",
            "     Urban_population   Latitude  Longitude  Null_Count_row  \\\n",
            "0         471031528.0  20.593684  78.962880               0   \n",
            "1         270663028.0  37.090240 -95.712891               1   \n",
            "2         270663028.0  37.090240 -95.712891               0   \n",
            "3         270663028.0  37.090240 -95.712891               0   \n",
            "4         471031528.0  20.593684  78.962880               0   \n",
            "..                ...        ...        ...             ...   \n",
            "990       183241641.0 -14.235004 -51.925280               0   \n",
            "991       471031528.0  20.593684  78.962880               0   \n",
            "992        55908316.0  55.378051  -3.435973               1   \n",
            "993         9021165.0  60.128161  18.643501               0   \n",
            "994       471031528.0  20.593684  78.962880               0   \n",
            "\n",
            "     num_columns_with_null  \n",
            "0                       18  \n",
            "1                       18  \n",
            "2                       18  \n",
            "3                       18  \n",
            "4                       18  \n",
            "..                     ...  \n",
            "990                     18  \n",
            "991                     18  \n",
            "992                     18  \n",
            "993                     18  \n",
            "994                     18  \n",
            "\n",
            "[995 rows x 30 columns]\n"
          ]
        }
      ]
    },
    {
      "cell_type": "code",
      "source": [
        "\n"
      ],
      "metadata": {
        "id": "m8gHM3bvYR5F"
      },
      "execution_count": null,
      "outputs": []
    }
  ]
}