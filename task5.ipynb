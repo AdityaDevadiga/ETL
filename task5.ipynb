{
  "cells": [
    {
      "cell_type": "markdown",
      "metadata": {
        "id": "view-in-github",
        "colab_type": "text"
      },
      "source": [
        "<a href=\"https://colab.research.google.com/github/AdityaDevadiga/ETL/blob/main/task5.ipynb\" target=\"_parent\"><img src=\"https://colab.research.google.com/assets/colab-badge.svg\" alt=\"Open In Colab\"/></a>"
      ]
    },
    {
      "cell_type": "code",
      "execution_count": null,
      "metadata": {
        "colab": {
          "base_uri": "https://localhost:8080/"
        },
        "id": "dAfn0VVMD6Hr",
        "outputId": "3248156b-b51a-44c4-b560-8d7b7ba35ce3"
      },
      "outputs": [
        {
          "output_type": "stream",
          "name": "stdout",
          "text": [
            "Requirement already satisfied: boto3 in /usr/local/lib/python3.10/dist-packages (1.28.36)\n",
            "Requirement already satisfied: botocore<1.32.0,>=1.31.36 in /usr/local/lib/python3.10/dist-packages (from boto3) (1.31.36)\n",
            "Requirement already satisfied: jmespath<2.0.0,>=0.7.1 in /usr/local/lib/python3.10/dist-packages (from boto3) (1.0.1)\n",
            "Requirement already satisfied: s3transfer<0.7.0,>=0.6.0 in /usr/local/lib/python3.10/dist-packages (from boto3) (0.6.2)\n",
            "Requirement already satisfied: python-dateutil<3.0.0,>=2.1 in /usr/local/lib/python3.10/dist-packages (from botocore<1.32.0,>=1.31.36->boto3) (2.8.2)\n",
            "Requirement already satisfied: urllib3<1.27,>=1.25.4 in /usr/local/lib/python3.10/dist-packages (from botocore<1.32.0,>=1.31.36->boto3) (1.26.16)\n",
            "Requirement already satisfied: six>=1.5 in /usr/local/lib/python3.10/dist-packages (from python-dateutil<3.0.0,>=2.1->botocore<1.32.0,>=1.31.36->boto3) (1.16.0)\n"
          ]
        }
      ],
      "source": [
        "pip install boto3"
      ]
    },
    {
      "cell_type": "code",
      "execution_count": null,
      "metadata": {
        "colab": {
          "base_uri": "https://localhost:8080/"
        },
        "id": "nSoGJfELNELX",
        "outputId": "c86dd9d3-a440-41ec-937b-fa76584b5fdd"
      },
      "outputs": [
        {
          "output_type": "stream",
          "name": "stdout",
          "text": [
            "Requirement already satisfied: snowflake-connector-python in /usr/local/lib/python3.10/dist-packages (3.1.0)\n",
            "Requirement already satisfied: asn1crypto<2.0.0,>0.24.0 in /usr/local/lib/python3.10/dist-packages (from snowflake-connector-python) (1.5.1)\n",
            "Requirement already satisfied: cffi<2.0.0,>=1.9 in /usr/local/lib/python3.10/dist-packages (from snowflake-connector-python) (1.15.1)\n",
            "Requirement already satisfied: cryptography<42.0.0,>=3.1.0 in /usr/local/lib/python3.10/dist-packages (from snowflake-connector-python) (41.0.3)\n",
            "Requirement already satisfied: oscrypto<2.0.0 in /usr/local/lib/python3.10/dist-packages (from snowflake-connector-python) (1.3.0)\n",
            "Requirement already satisfied: pyOpenSSL<24.0.0,>=16.2.0 in /usr/local/lib/python3.10/dist-packages (from snowflake-connector-python) (23.2.0)\n",
            "Requirement already satisfied: pycryptodomex!=3.5.0,<4.0.0,>=3.2 in /usr/local/lib/python3.10/dist-packages (from snowflake-connector-python) (3.18.0)\n",
            "Requirement already satisfied: pyjwt<3.0.0 in /usr/lib/python3/dist-packages (from snowflake-connector-python) (2.3.0)\n",
            "Requirement already satisfied: pytz in /usr/local/lib/python3.10/dist-packages (from snowflake-connector-python) (2023.3)\n",
            "Requirement already satisfied: requests<3.0.0 in /usr/local/lib/python3.10/dist-packages (from snowflake-connector-python) (2.31.0)\n",
            "Requirement already satisfied: packaging in /usr/local/lib/python3.10/dist-packages (from snowflake-connector-python) (23.1)\n",
            "Requirement already satisfied: charset-normalizer<4,>=2 in /usr/local/lib/python3.10/dist-packages (from snowflake-connector-python) (3.2.0)\n",
            "Requirement already satisfied: idna<4,>=2.5 in /usr/local/lib/python3.10/dist-packages (from snowflake-connector-python) (3.4)\n",
            "Requirement already satisfied: urllib3<1.27,>=1.21.1 in /usr/local/lib/python3.10/dist-packages (from snowflake-connector-python) (1.26.16)\n",
            "Requirement already satisfied: certifi>=2017.4.17 in /usr/local/lib/python3.10/dist-packages (from snowflake-connector-python) (2023.7.22)\n",
            "Requirement already satisfied: typing-extensions<5,>=4.3 in /usr/local/lib/python3.10/dist-packages (from snowflake-connector-python) (4.7.1)\n",
            "Requirement already satisfied: filelock<4,>=3.5 in /usr/local/lib/python3.10/dist-packages (from snowflake-connector-python) (3.12.2)\n",
            "Requirement already satisfied: sortedcontainers>=2.4.0 in /usr/local/lib/python3.10/dist-packages (from snowflake-connector-python) (2.4.0)\n",
            "Requirement already satisfied: platformdirs<3.9.0,>=2.6.0 in /usr/local/lib/python3.10/dist-packages (from snowflake-connector-python) (3.8.1)\n",
            "Requirement already satisfied: tomlkit in /usr/local/lib/python3.10/dist-packages (from snowflake-connector-python) (0.12.1)\n",
            "Requirement already satisfied: pycparser in /usr/local/lib/python3.10/dist-packages (from cffi<2.0.0,>=1.9->snowflake-connector-python) (2.21)\n"
          ]
        }
      ],
      "source": [
        "pip install snowflake-connector-python"
      ]
    },
    {
      "cell_type": "code",
      "execution_count": null,
      "metadata": {
        "id": "9ub3QLkeDyYv",
        "colab": {
          "base_uri": "https://localhost:8080/"
        },
        "outputId": "11814959-737e-4f9f-9984-426aa6fe54af"
      },
      "outputs": [
        {
          "output_type": "stream",
          "name": "stdout",
          "text": [
            "Total number of records in dataset: 995\n",
            "Number of rows with null or empty cells: 441\n",
            "Number of columns with null or empty cells: 18\n",
            "Number of rows with all columns having values: 554\n"
          ]
        }
      ],
      "source": [
        "import boto3\n",
        "import chardet\n",
        "import pandas as pd\n",
        "from io import StringIO\n",
        "import snowflake.connector\n",
        "import os\n",
        "\n",
        "# Connect to S3\n",
        "s3 = boto3.client('s3',\n",
        "                  aws_access_key_id='****************************',\n",
        "                  aws_secret_access_key='*******************************')\n",
        "\n",
        "# Retrieve data from S3\n",
        "bucket_name = 'your_bucket_name'\n",
        "object_key = 'your_object_name'\n",
        "\n",
        "s3_response = s3.get_object(Bucket=bucket_name, Key=object_key)\n",
        "s3_data = s3_response['Body'].read()\n",
        "\n",
        "# Detect the encoding\n",
        "result = chardet.detect(s3_data)\n",
        "actual_encoding = result['encoding']\n",
        "\n",
        "# Decode using the detected encoding\n",
        "decoded_data = s3_data.decode(actual_encoding)\n",
        "\n",
        "# Read CSV data into a DataFrame\n",
        "df = pd.read_csv(StringIO(decoded_data))\n",
        "\n",
        "# Count the total number of rows in the dataset\n",
        "num_of_rows = df.shape[0]\n",
        "\n",
        "# Count the number of rows with null or empty cells\n",
        "rows_with_null = df[df.isnull().any(axis=1)]\n",
        "num_rows_with_null = len(rows_with_null)\n",
        "\n",
        "# Count columns with null or empty cells\n",
        "columns_with_null = df.columns[df.isnull().any()]\n",
        "num_columns_with_null = len(columns_with_null)\n",
        "\n",
        "# Count the number of rows with all columns having values\n",
        "complete_rows = df.dropna()\n",
        "num_complete_rows = len(complete_rows)\n",
        "\n",
        "# Add a new column that counts null values in each row\n",
        "df['Null_Count_row'] = df.isnull().sum(axis=1)\n",
        "\n",
        "# Count the number of columns with null values\n",
        "num_columns_with_null = df.isnull().any().sum()\n",
        "\n",
        "# Print results\n",
        "print(\"Total number of records in dataset:\", num_of_rows)\n",
        "print(\"Number of rows with null or empty cells:\", num_rows_with_null)\n",
        "print(\"Number of columns with null or empty cells:\", num_columns_with_null)\n",
        "print(\"Number of rows with all columns having values:\", num_complete_rows)\n",
        "\n",
        "# Create a Snowflake connection\n",
        "conn = snowflake.connector.connect(\n",
        "    user='user_name',\n",
        "    password='password',\n",
        "    account='account_name',\n",
        "    warehouse='warehouse_name',\n",
        "    database='result',\n",
        "    schema='your_schema'\n",
        ")\n",
        "\n",
        "# Create a cursor\n",
        "cur = conn.cursor()\n",
        "\n",
        "# Create a table in Snowflake to store the results\n",
        "create_table_sql = '''\n",
        "CREATE OR REPLACE TABLE result_table (\n",
        "    total_records INT,\n",
        "    rows_with_null INT,\n",
        "    columns_with_null INT,\n",
        "    complete_rows INT\n",
        ")\n",
        "'''\n",
        "\n",
        "cur.execute(create_table_sql)\n",
        "\n",
        "# Insert results into Snowflake table\n",
        "insert_sql = '''\n",
        "INSERT INTO result_table (total_records, rows_with_null, columns_with_null, complete_rows)\n",
        "VALUES (%s, %s, %s, %s)\n",
        "'''\n",
        "\n",
        "cur.execute(insert_sql, (num_of_rows, num_rows_with_null, num_columns_with_null, num_complete_rows))\n",
        "\n",
        "# Commit the transaction\n",
        "conn.commit()\n",
        "\n",
        "# Close the Snowflake connection\n",
        "cur.close()\n",
        "conn.close()\n"
      ]
    }
  ],
  "metadata": {
    "colab": {
      "provenance": [],
      "authorship_tag": "ABX9TyNLz7t6TwXH8t0hsxu/J8h5",
      "include_colab_link": true
    },
    "kernelspec": {
      "display_name": "Python 3",
      "name": "python3"
    },
    "language_info": {
      "name": "python"
    }
  },
  "nbformat": 4,
  "nbformat_minor": 0
}